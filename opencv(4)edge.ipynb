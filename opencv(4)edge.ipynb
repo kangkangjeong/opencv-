{
 "cells": [
  {
   "cell_type": "code",
   "execution_count": 1,
   "metadata": {},
   "outputs": [],
   "source": [
    "import numpy as np\n",
    "import sys\n",
    "import cv2\n",
    "import matplotlib.pyplot as plt\n"
   ]
  },
  {
   "cell_type": "code",
   "execution_count": 21,
   "metadata": {},
   "outputs": [],
   "source": [
    "src=cv2.imread('./fig/puppy.bmp',1)\n",
    "glass=cv2.imread('./fig/imgbin_sunglasses_1.png',cv2.IMREAD_UNCHANGED)\n",
    "\n",
    "\n",
    "\n",
    "glass.shape\n",
    "\n",
    "glass_ = glass[:, :, :-1]\n",
    "glass_resize=cv2.resize(glass_,dsize=(500,300))\n",
    "mask=glass_resize[:,:,-1]\n",
    "h,w = mask.shape[:2]\n",
    "src_crop=src[120:120+h,220:220+w]\n",
    "\n",
    "cv2.copyTo(glass_resize,mask,src_crop)\n",
    "\n",
    "cv2.imshow('glass',glass_)\n",
    "cv2.imshow('mask',mask)\n",
    "cv2.imshow('src',src)\n",
    "\n",
    "cv2.waitKey()\n",
    "cv2.destroyAllWindows()"
   ]
  },
  {
   "cell_type": "code",
   "execution_count": null,
   "metadata": {},
   "outputs": [],
   "source": [
    "img1 = np.zeros((600,1000,3),np.uint8)\n",
    "img2= np.ones((600,1000,3),np.uint8) *255\n",
    "img3 = np.full((600,1000,3),(123,151,50),np.uint8)\n",
    "\n",
    "cv2.imshow('img1',img1)\n",
    "cv2.imshow('img2',img2)\n",
    "cv2.imshow('img3',img3)\n",
    "\n",
    "cv2.waitKey()\n",
    "cv2.destroyAllWindows()"
   ]
  },
  {
   "cell_type": "code",
   "execution_count": 2,
   "metadata": {},
   "outputs": [
    {
     "data": {
      "text/plain": [
       "['./my_images\\\\image.jpeg',\n",
       " './my_images\\\\Screenshot_20211013-151537_KakaoTalk.jpg',\n",
       " './my_images\\\\Screenshot_20211013-151544_KakaoTalk.jpg',\n",
       " './my_images\\\\Screenshot_20211013-151549_KakaoTalk.jpg',\n",
       " './my_images\\\\Screenshot_20211013-151552_KakaoTalk.jpg',\n",
       " './my_images\\\\Screenshot_20211013-151556_KakaoTalk.jpg',\n",
       " './my_images\\\\Screenshot_20211013-151600_KakaoTalk.jpg',\n",
       " './my_images\\\\Screenshot_20211013-151603_KakaoTalk.jpg',\n",
       " './my_images\\\\Screenshot_20211013-151609_KakaoTalk.jpg',\n",
       " './my_images\\\\Screenshot_20211013-151614_KakaoTalk.jpg',\n",
       " './my_images\\\\Screenshot_20211013-151630_KakaoTalk.jpg',\n",
       " './my_images\\\\Screenshot_20211025-205506_One UI Home.jpg',\n",
       " './my_images\\\\Screenshot_20211025-205516_One UI Home.jpg',\n",
       " './my_images\\\\Screenshot_20211025-205528_One UI Home.jpg',\n",
       " './my_images\\\\Screenshot_20211025-205532_One UI Home.jpg',\n",
       " './my_images\\\\Screenshot_20211112-213954_KakaoTalk.jpg',\n",
       " './my_images\\\\Screenshot_20211112-213957_KakaoTalk.jpg',\n",
       " './my_images\\\\Screenshot_20211112-214000_KakaoTalk.jpg',\n",
       " './my_images\\\\Screenshot_20211112-214002_KakaoTalk.jpg',\n",
       " './my_images\\\\Screenshot_20211112-214005_KakaoTalk.jpg',\n",
       " './my_images\\\\Screenshot_20211112-214012_KakaoTalk.jpg']"
      ]
     },
     "metadata": {},
     "output_type": "display_data"
    }
   ],
   "source": [
    "import glob\n",
    "\n",
    "img_paths = glob.glob('./my_images/*.*')\n",
    "display(img_paths)\n",
    "\n",
    "cv2.namedWindow('image',cv2.WINDOW_NORMAL)\n",
    "\n",
    "cv2.setWindowProperty('image',cv2.WND_PROP_FULLSCREEN,\n",
    "                      cv2.WINDOW_FULLSCREEN)\n",
    "\n",
    "idx=0\n",
    "while True:\n",
    "    img = cv2.imread(img_paths[idx])\n",
    "    if img is None:\n",
    "        \n",
    "        print('error')\n",
    "        \n",
    "        break\n",
    "    \n",
    "    cv2.imshow('image',img)\n",
    "    if cv2.waitKey(3000)==27:\n",
    "        break\n",
    "    idx +=1\n",
    "    if idx >=len(img_paths):\n",
    "        idx=0\n",
    "        \n",
    "\n",
    "cv2.destroyAllWindows()"
   ]
  },
  {
   "cell_type": "code",
   "execution_count": 5,
   "metadata": {},
   "outputs": [],
   "source": [
    "img = cv2.imread('./fig/green.png')\n",
    "cv2.imshow('images',img)\n",
    "\n",
    "while True:\n",
    "    key=cv2.waitKey()\n",
    "    if key ==27 or key==ord('q'):\n",
    "        break\n",
    "    elif key==ord('e'):\n",
    "        img=cv2.Canny(img,100,150) #엣지가 나온다.\n",
    "        cv2.imshow('images',img) \n",
    "cv2.destroyAllWindows()"
   ]
  },
  {
   "attachments": {},
   "cell_type": "markdown",
   "metadata": {},
   "source": [
    "# 여기서부터 그림안에 박스 그리기"
   ]
  },
  {
   "cell_type": "code",
   "execution_count": 49,
   "metadata": {},
   "outputs": [],
   "source": [
    "\n",
    "# 하얀 캠퍼스 만들기\n",
    "import numpy as np\n",
    "import cv2\n",
    "img=np.ones((600,1200,3),np.uint8)*255\n",
    "\n",
    "\n",
    "\n",
    "if img is None:\n",
    "    print('error')\n",
    "    sys.exit()\n",
    "\n",
    "cv2.line(img,(100,50),(300,50),(0,0,255),5,cv2.LINE_AA) #line ㄱ선 \n",
    "cv2.line(img,(300,50),(200,250),(0,0,255),5,cv2.LINE_AA)\n",
    "cv2.arrowedLine(img,(350,50),(350,250),(255,0,0),5,cv2.LINE_AA) # 화살표\n",
    "cv2.rectangle(img, (200,270,150,150),(0,255,0),5,cv2.LINE_AA) #사각형\n",
    "cv2.rectangle(img, (200,270),(340,420),(130,200,232),-1,cv2.LINE_AA)\n",
    "\n",
    "cv2.circle(img,(500,300),100,(0,255,200),-1,cv2.LINE_AA) #원\n",
    "\n",
    "cv2.ellipse(img,(500,300),(50,200),30,-90,270,(0,0,255),-1,cv2.LINE_AA) #타원인데 각도조절하는건 더해봐야할듯\n",
    "\n",
    "cv2.putText(img,'hello opencv',(800,500),cv2.FONT_HERSHEY_SIMPLEX,1,(255,0,0),1,cv2.LINE_AA)\n",
    "\n",
    "cv2.imshow('campus',img)\n",
    "cv2.waitKey()\n",
    "cv2.destroyAllWindows()"
   ]
  },
  {
   "cell_type": "code",
   "execution_count": null,
   "metadata": {},
   "outputs": [],
   "source": [
    "# cv2.ellips(img, center, axes, angle, startAngle, endAngle, color[, thickness[, lineType[, shift]]]) -> img\n",
    "    # center: 원의 중심좌표 (x, y)\n",
    "    # axis: 축의 반지름(x, y)\n",
    "    # angle: 타원의 기울기 (예, 10, 오른쪽으로 10도 기울어짐)\n",
    "    # startAngle: 타원을 그리는 시작 각도 (3시 방향이 0도)\n",
    "    # endAngle: 타원을 그리는 종료 각도\n",
    "        \n",
    "# cv2.polylines(img, pts, isClosed, color, thickness = None, lineType = None) -> img\n",
    "    # center: 다각형 점들의 array\n",
    "    # isClosed : True for 폐곡선"
   ]
  },
  {
   "cell_type": "code",
   "execution_count": 56,
   "metadata": {},
   "outputs": [
    {
     "ename": "OSError",
     "evalue": "cannot open resource",
     "output_type": "error",
     "traceback": [
      "\u001b[1;31m---------------------------------------------------------------------------\u001b[0m",
      "\u001b[1;31mOSError\u001b[0m                                   Traceback (most recent call last)",
      "Cell \u001b[1;32mIn[56], line 8\u001b[0m\n\u001b[0;32m      6\u001b[0m font_path \u001b[39m=\u001b[39m \u001b[39m'\u001b[39m\u001b[39m/path/to/NanumGothic.ttf\u001b[39m\u001b[39m'\u001b[39m\n\u001b[0;32m      7\u001b[0m font_size \u001b[39m=\u001b[39m \u001b[39m40\u001b[39m\n\u001b[1;32m----> 8\u001b[0m font \u001b[39m=\u001b[39m ImageFont\u001b[39m.\u001b[39;49mtruetype(font_path, font_size)\n\u001b[0;32m     10\u001b[0m \u001b[39m# Load image\u001b[39;00m\n\u001b[0;32m     11\u001b[0m img\u001b[39m=\u001b[39mnp\u001b[39m.\u001b[39mones((\u001b[39m600\u001b[39m,\u001b[39m1200\u001b[39m,\u001b[39m3\u001b[39m),np\u001b[39m.\u001b[39muint8)\u001b[39m*\u001b[39m\u001b[39m255\u001b[39m\n",
      "File \u001b[1;32mc:\\Users\\hunmi\\anaconda3\\envs\\py3.8\\lib\\site-packages\\PIL\\ImageFont.py:1008\u001b[0m, in \u001b[0;36mtruetype\u001b[1;34m(font, size, index, encoding, layout_engine)\u001b[0m\n\u001b[0;32m   1005\u001b[0m     \u001b[39mreturn\u001b[39;00m FreeTypeFont(font, size, index, encoding, layout_engine)\n\u001b[0;32m   1007\u001b[0m \u001b[39mtry\u001b[39;00m:\n\u001b[1;32m-> 1008\u001b[0m     \u001b[39mreturn\u001b[39;00m freetype(font)\n\u001b[0;32m   1009\u001b[0m \u001b[39mexcept\u001b[39;00m \u001b[39mOSError\u001b[39;00m:\n\u001b[0;32m   1010\u001b[0m     \u001b[39mif\u001b[39;00m \u001b[39mnot\u001b[39;00m is_path(font):\n",
      "File \u001b[1;32mc:\\Users\\hunmi\\anaconda3\\envs\\py3.8\\lib\\site-packages\\PIL\\ImageFont.py:1005\u001b[0m, in \u001b[0;36mtruetype.<locals>.freetype\u001b[1;34m(font)\u001b[0m\n\u001b[0;32m   1004\u001b[0m \u001b[39mdef\u001b[39;00m \u001b[39mfreetype\u001b[39m(font):\n\u001b[1;32m-> 1005\u001b[0m     \u001b[39mreturn\u001b[39;00m FreeTypeFont(font, size, index, encoding, layout_engine)\n",
      "File \u001b[1;32mc:\\Users\\hunmi\\anaconda3\\envs\\py3.8\\lib\\site-packages\\PIL\\ImageFont.py:255\u001b[0m, in \u001b[0;36mFreeTypeFont.__init__\u001b[1;34m(self, font, size, index, encoding, layout_engine)\u001b[0m\n\u001b[0;32m    253\u001b[0m                 load_from_bytes(f)\n\u001b[0;32m    254\u001b[0m             \u001b[39mreturn\u001b[39;00m\n\u001b[1;32m--> 255\u001b[0m     \u001b[39mself\u001b[39m\u001b[39m.\u001b[39mfont \u001b[39m=\u001b[39m core\u001b[39m.\u001b[39;49mgetfont(\n\u001b[0;32m    256\u001b[0m         font, size, index, encoding, layout_engine\u001b[39m=\u001b[39;49mlayout_engine\n\u001b[0;32m    257\u001b[0m     )\n\u001b[0;32m    258\u001b[0m \u001b[39melse\u001b[39;00m:\n\u001b[0;32m    259\u001b[0m     load_from_bytes(font)\n",
      "\u001b[1;31mOSError\u001b[0m: cannot open resource"
     ]
    }
   ],
   "source": [
    "import cv2\n",
    "import numpy as np\n",
    "from PIL import Image, ImageFont, ImageDraw\n",
    "\n",
    "# Load font\n",
    "font_path = '/path/to/NanumGothic.ttf'\n",
    "font_size = 40\n",
    "font = ImageFont.truetype(font_path, font_size)\n",
    "\n",
    "# Load image\n",
    "img=np.ones((600,1200,3),np.uint8)*255\n",
    "\n",
    "# Convert to PIL image\n",
    "img_pil = Image.fromarray(cv2.cvtColor(img, cv2.COLOR_BGR2RGB))\n",
    "\n",
    "# Draw text on PIL image\n",
    "draw = ImageDraw.Draw(img_pil)\n",
    "text = '인삼'\n",
    "pos = (300, 500)\n",
    "color = (255, 0, 0)\n",
    "draw.text(pos, text, font=font, fill=color)\n",
    "\n",
    "# Convert back to cv2 image\n",
    "img = cv2.cvtColor(np.array(img_pil), cv2.COLOR_RGB2BGR)\n",
    "\n",
    "# Display image\n",
    "cv2.imshow('image', img)\n",
    "cv2.waitKey(0)\n",
    "cv2.destroyAllWindows()\n"
   ]
  },
  {
   "cell_type": "code",
   "execution_count": null,
   "metadata": {},
   "outputs": [],
   "source": [
    "# cv2.line(img, pt1, pt2, color, thickness = None, lineType = None, shift = None) -> img\n",
    "# flags\n",
    "    # img:그림을 그릴 영상\n",
    "    # pt1, pt2: 직선의 시작점, 끝점\n",
    "    # color: 직선의 칼라 (B,G,R)의 튜플\n",
    "    # thinkness: 선두께, 기본은= 1\n",
    "    # lineType: cv2.LINE_4, cv2.LINE_8, cv2.LINE_AA\n",
    "    \n",
    "# cv2.rectangle(img, pt1, pt2, color, thickness = None, lineType = None) -> img\n",
    "   # pt1 :좌측 상단,  pt2: 우측하단\n",
    "# cv2.rectangle(img, rect, color, thickness = None, lineType = None) -> img\n",
    "    # rect: 사각형의 위치 정보 (x, y, w, h)\n",
    "    \n",
    "    \n",
    "# cv2.circle(img, center, radius, color, thickness = None, lineType = None) -> img\n",
    "    # center: 원의 중심좌표 (x, y)\n",
    "    # radius : 원의 반지름\n",
    "\n",
    "# cv2.ellips(img, center, axes, angle, startAngle, endAngle, color[, thickness[, lineType[, shift]]]) -> img\n",
    "    # center: 원의 중심좌표 (x, y)\n",
    "    # axis: 축의 반지름(x, y)\n",
    "    # angle: 타원의 기울기 (예, 10, 오른쪽으로 10도 기울어짐)\n",
    "    # startAngle: 타원을 그리는 시작 각도 (3시 방향이 0도)\n",
    "    # endAngle: 타원을 그리는 종료 각도\n",
    "        \n",
    "# cv2.polylines(img, pts, isClosed, color, thickness = None, lineType = None) -> img\n",
    "    # center: 다각형 점들의 array\n",
    "    # isClosed : True for 폐곡선"
   ]
  },
  {
   "cell_type": "code",
   "execution_count": 105,
   "metadata": {},
   "outputs": [],
   "source": [
    "img=np.ones((600,800,3),np.uint8)*255\n",
    "\n",
    "cv2.putText(img,'O',(100,200),cv2.FONT_HERSHEY_SIMPLEX,5,(120,230,220),3)\n",
    "\n",
    "\n",
    "cv2.line(img,(250,50),(250,250),(255,0,0),5,cv2.LINE_AA)\n",
    "cv2.line(img,(140,230),(140,350),(255,0,0),5,cv2.LINE_AA)\n",
    "cv2.arrowedLine(img,(250,350),(140,350),(225,200,100),2,cv2.LINE_AA)\n",
    "\n",
    "cv2.line(img,(400,100),(450,170),(255,0,0),5,cv2.LINE_AA)\n",
    "cv2.line(img,(400,100),(350,170),(255,0,0),5,cv2.LINE_AA)\n",
    "\n",
    "cv2.line(img,(500,100),(500,300),(255,0,0),5,cv2.LINE_AA)\n",
    "cv2.line(img,(500,200),(560,200),(255,0,0),5,cv2.LINE_AA)\n",
    "cv2.rectangle(img, (350,350),(450,250),(130,200,232),-1,cv2.LINE_AA)\n",
    "\n",
    "# cv2.line(img,(250,),(),(255,0,0),5,cv2.LINE_AA)\n",
    "\n",
    "\n",
    "cv2.imshow('img',img)\n",
    "# cv2.imwrite('./write.jpg',img)\n",
    "cv2.waitKey()\n",
    "cv2.destroyAllWindows()"
   ]
  },
  {
   "cell_type": "code",
   "execution_count": 121,
   "metadata": {},
   "outputs": [
    {
     "name": "stdout",
     "output_type": "stream",
     "text": [
      "480 640\n"
     ]
    }
   ],
   "source": [
    "##\n",
    "cap= cv2.VideoCapture(0)\n",
    "\n",
    "w,h=frame.shape[:2]\n",
    "print(w,h)\n",
    "if not cap.isOpened():\n",
    "    print('Camera open failed')\n",
    "    sys.exit()\n",
    "\n",
    "while True:\n",
    "\n",
    "    ret, frame = cap.read()\n",
    "    if not ret:\n",
    "        print('frame read failed')\n",
    "        break\n",
    "    cv2.circle(frame,(300,270),100,(255,0,0),3,cv2.LINE_AA)\n",
    "\n",
    "\n",
    "    cv2.imshow('frame',frame)\n",
    "    if cv2.waitKey(1) ==27:\n",
    "        break\n",
    "cap.release()\n",
    "cv2.destroyAllWindows()"
   ]
  },
  {
   "cell_type": "code",
   "execution_count": 133,
   "metadata": {},
   "outputs": [],
   "source": [
    "cap=cv2.VideoCapture(0)\n",
    "\n",
    "if not cap.isOpened():\n",
    "    print('error opening')\n",
    "    sys.exit()\n",
    "\n",
    "w =int( cap.get(cv2.CAP_PROP_FRAME_WIDTH))\n",
    "h = int(cap.get(cv2.CAP_PROP_FRAME_HEIGHT))\n",
    "fps=int(cap.get(cv2.CAP_PROP_FPS))\n",
    "\n",
    "# print('width:',w, 'height:',h,'fps:',fps) \n",
    "fourcc=cv2.VideoWriter_fourcc(*'DIVX') #비디오코덱\n",
    "out =cv2.VideoWriter('output1.avi',fourcc,fps,(w,h),isColor=False)\n",
    "\n",
    "\n",
    "while True:\n",
    "    ret,frame = cap.read()\n",
    "    if not ret:\n",
    "        print('failed')\n",
    "        break\n",
    "    edge=cv2.Canny(frame,80,120)\n",
    "    out.write(edge)\n",
    "    cv2.imshow('frame',frame)\n",
    "    cv2.imshow('edge',edge)\n",
    "    \n",
    "    if cv2.waitKey(1)==27:\n",
    "        break\n",
    "out.release()\n",
    "cap.release()\n",
    "cv2.destroyAllWindows()\n"
   ]
  }
 ],
 "metadata": {
  "kernelspec": {
   "display_name": "py3.8",
   "language": "python",
   "name": "python3"
  },
  "language_info": {
   "codemirror_mode": {
    "name": "ipython",
    "version": 3
   },
   "file_extension": ".py",
   "mimetype": "text/x-python",
   "name": "python",
   "nbconvert_exporter": "python",
   "pygments_lexer": "ipython3",
   "version": "3.8.16"
  },
  "orig_nbformat": 4
 },
 "nbformat": 4,
 "nbformat_minor": 2
}
