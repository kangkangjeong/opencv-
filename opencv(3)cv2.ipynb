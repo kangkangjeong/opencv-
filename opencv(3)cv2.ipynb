{
 "cells": [
  {
   "cell_type": "code",
   "execution_count": 7,
   "metadata": {},
   "outputs": [],
   "source": [
    "import sys\n",
    "import cv2\n",
    "import matplotlib.pyplot as plt\n",
    "import numpy as np\n",
    "\n",
    "#review\n",
    "src =cv2.imread('fig/airplane.bmp')\n",
    "mask=cv2.imread('fig/mask_plane.bmp',cv2.IMREAD_GRAYSCALE)\n",
    "dst =cv2.imread('fig/field.bmp')\n",
    "\n",
    "\n",
    "if src is None or dst is None or mask is None:\n",
    "    print('image read failed')\n",
    "    sys.exit()\n",
    "    \n",
    "cv2.copyTo(src,mask,dst)    \n",
    "cv2.imshow('src',src)\n",
    "cv2.imshow('mask',mask)\n",
    "cv2.imshow('dst',dst)\n",
    "\n",
    "cv2.waitKey()\n",
    "cv2.destroyAllWindows()\n"
   ]
  },
  {
   "cell_type": "code",
   "execution_count": 4,
   "metadata": {},
   "outputs": [],
   "source": [
    "#정상버전\n",
    "import cv2\n",
    "import sys\n",
    "src=cv2.imread('fig/cow.png')\n",
    "dst=cv2.imread('fig/green.png')\n",
    "h , w =src.shape[:2]\n",
    "\n",
    "src_gray=cv2.cvtColor(src,cv2.COLOR_BGR2GRAY)\n",
    "retval, mask= cv2.threshold(src_gray, 244, 255, cv2.THRESH_BINARY_INV) #트레스오드 이진분류 마스크 생성\n",
    "dst_re= cv2.resize(dst,(w,h),interpolation=cv2.INTER_AREA)\n",
    "\n",
    "if src is None or dst is None:\n",
    "    print('error')\n",
    "    sys.exit()\n",
    "cv2.copyTo(src,mask,dst_re)\n",
    "cv2.imshow('src',src)\n",
    "# cv2.imshow('graycow',src_gray)\n",
    "cv2.imshow('mask',mask)\n",
    "\n",
    "\n",
    "cv2.imshow('dst_re',dst_re)\n",
    "\n",
    "cv2.waitKey()\n",
    "cv2.destroyAllWindows()"
   ]
  },
  {
   "cell_type": "code",
   "execution_count": 87,
   "metadata": {},
   "outputs": [
    {
     "data": {
      "text/plain": [
       "True"
      ]
     },
     "execution_count": 87,
     "metadata": {},
     "output_type": "execute_result"
    }
   ],
   "source": [
    "import cv2\n",
    "import sys\n",
    "\n",
    "src = cv2.imread('fig/cow.png')\n",
    "dst = cv2.imread('fig/green.png')\n",
    "h,w= src.shape[:2]\n",
    "src_gray = cv2.cvtColor(src, cv2.COLOR_BGR2GRAY)\n",
    "retval, mask = cv2.threshold(src_gray, 244, 255, cv2.THRESH_BINARY_INV) \n",
    "\n",
    "dst_crop=dst[400:400+h,200:200+w]\n",
    "\n",
    "cv2.copyTo(src,mask,dst_crop)\n",
    "if src is None or dst is None:\n",
    "    print('error')\n",
    "    sys.exit()\n",
    "\n",
    "cv2.imshow('src', src)\n",
    "# cv2.imshow('dst_crop', dst_crop)\n",
    "# cv2.imshow('graycow', src_gray)\n",
    "cv2.imshow('mask', mask)\n",
    "cv2.imshow('dst', dst)\n",
    "\n",
    "cv2.waitKey()\n",
    "cv2.destroyAllWindows()\n",
    "# cv2.imwrite('../gwo.png', dst)"
   ]
  },
  {
   "cell_type": "code",
   "execution_count": 86,
   "metadata": {},
   "outputs": [],
   "source": [
    "#송아지 확대버전\n",
    "src=cv2.imread('fig/cow.png')\n",
    "dst=cv2.imread('fig/green.png')\n",
    "h , w =dst.shape[:2]\n",
    "\n",
    "src_re= cv2.resize(src,(w,h),interpolation=cv2.INTER_AREA)\n",
    "src_gray=cv2.cvtColor(src_re,cv2.COLOR_BGR2GRAY)\n",
    "retval, mask= cv2.threshold(src_gray, 244, 255, cv2.THRESH_BINARY_INV) #트레스오드 이진분류 마스크 생성\n",
    "\n",
    "\n",
    "if src is None or dst is None:\n",
    "    print('error')\n",
    "    sys.exit()\n",
    "    \n",
    "cv2.copyTo(src_re,mask,dst)\n",
    "cv2.imshow('src',src)\n",
    "# cv2.imshow('graycow',src_gray)\n",
    "cv2.imshow('mask',mask)\n",
    "\n",
    "\n",
    "cv2.imshow('dst',dst)\n",
    "\n",
    "cv2.waitKey()\n",
    "cv2.destroyAllWindows()"
   ]
  },
  {
   "cell_type": "code",
   "execution_count": 17,
   "metadata": {},
   "outputs": [],
   "source": [
    "img1 = np.zeros((600,1000,3),np.uint8)\n",
    "img2= np.ones((600,1000,3),np.uint8) *255\n",
    "img3 = np.full((600,1000,3),(123,151,50),np.uint8)\n",
    "\n",
    "cv2.imshow('img1',img1)\n",
    "cv2.imshow('img2',img2)\n",
    "cv2.imshow('img3',img3)\n",
    "\n",
    "cv2.waitKey()\n",
    "cv2.destroyAllWindows()"
   ]
  },
  {
   "cell_type": "code",
   "execution_count": 2,
   "metadata": {},
   "outputs": [],
   "source": [
    "import cv2\n",
    "import sys\n",
    "\n",
    "img = cv2.imread('fig/puppy.bmp', cv2.IMREAD_COLOR)\n",
    "\n",
    "if img is None:\n",
    "    print('Error')\n",
    "    sys.exit()\n",
    "\n",
    "cv2.namedWindow('img', cv2.WINDOW_AUTOSIZE)\n",
    "cv2.imshow('img', img)\n",
    "\n",
    "while True:\n",
    "    key = cv2.waitKey()\n",
    "    if key == 27 or key == ord('q'):\n",
    "        break\n",
    "\n",
    "cv2.destroyAllWindows()\n"
   ]
  },
  {
   "cell_type": "code",
   "execution_count": 85,
   "metadata": {},
   "outputs": [
    {
     "name": "stdout",
     "output_type": "stream",
     "text": [
      "shape of sunglass= (300, 500, 4)\n"
     ]
    }
   ],
   "source": [
    "src =cv2.imread('./fig/dodge.jpg')\n",
    "sunglass= cv2.imread('fig/test.png',cv2.IMREAD_UNCHANGED)\n",
    "\n",
    "sunglass=cv2.resize(sunglass,(500,300))\n",
    "sunglass_img = sunglass[:,:,0:-1]\n",
    "sunglass_mask= sunglass[:,:,-1]\n",
    "\n",
    "h,w =sunglass_img.shape[:2] \n",
    "src_crop = src[350:350+h,500:500+w]\n",
    "\n",
    "cv2.copyTo(sunglass_img,sunglass_mask,src_crop)\n",
    "if src is None or sunglass is None:\n",
    "    print('Error: unable to')\n",
    "    sys.exit()\n",
    "    \n",
    "cv2.imshow('src',src)\n",
    "cv2.imshow('sunglass',sunglass_img)\n",
    "# cv2.imshow('sunglass_mask',sunglass_mask)\n",
    "cv2.imshow('src_crop',src_crop)\n",
    "print('shape of sunglass=',sunglass.shape)\n",
    "cv2.waitKey()\n",
    "cv2.destroyAllWindows()\n",
    "\n",
    "# cv2.imwrite('../test.jpg',src)"
   ]
  },
  {
   "cell_type": "code",
   "execution_count": 115,
   "metadata": {},
   "outputs": [
    {
     "name": "stdout",
     "output_type": "stream",
     "text": [
      "(700, 900, 4)\n"
     ]
    }
   ],
   "source": [
    "sunglass=cv2.imread('fig/imgbin_hat.png',cv2.IMREAD_UNCHANGED)\n",
    "doge=cv2.imread('fig/dodge.jpg')\n",
    "\n",
    "re_sunglass=cv2.resize(sunglass,dsize=(900,700))\n",
    "print(re_sunglass.shape)\n",
    "sunglass_img = re_sunglass[:,:,0:-1]\n",
    "sunglass_mask= re_sunglass[:,:,-1]\n",
    "h, w = re_sunglass.shape[:2]\n",
    "crop_doge=doge[130:130+h,400:400+w]\n",
    "\n",
    "cv2.copyTo(sunglass_img,sunglass_mask,crop_doge)\n",
    "\n",
    "cv2.imshow('crop_doge',crop_doge)\n",
    "cv2.imshow('re_sunglass',re_sunglass)\n",
    "cv2.imshow('doge',doge)\n",
    "cv2.waitKey()\n",
    "cv2.destroyAllWindows()"
   ]
  }
 ],
 "metadata": {
  "kernelspec": {
   "display_name": "py3.8",
   "language": "python",
   "name": "python3"
  },
  "language_info": {
   "codemirror_mode": {
    "name": "ipython",
    "version": 3
   },
   "file_extension": ".py",
   "mimetype": "text/x-python",
   "name": "python",
   "nbconvert_exporter": "python",
   "pygments_lexer": "ipython3",
   "version": "3.8.16"
  },
  "orig_nbformat": 4
 },
 "nbformat": 4,
 "nbformat_minor": 2
}
